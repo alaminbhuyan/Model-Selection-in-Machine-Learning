{
 "cells": [
  {
   "cell_type": "code",
   "execution_count": 1,
   "metadata": {
    "executionInfo": {
     "elapsed": 1481,
     "status": "ok",
     "timestamp": 1606581465435,
     "user": {
      "displayName": "Al Amin",
      "photoUrl": "https://lh3.googleusercontent.com/a-/AOh14GiMB6CqgQqINGrgkLYU8ftIloMfHO5LgiFZgCAUSg=s64",
      "userId": "17120997331533597303"
     },
     "user_tz": -360
    },
    "id": "PRcck_CMJ6TY"
   },
   "outputs": [],
   "source": [
    "import numpy as np\n",
    "import pandas as pd\n",
    "from sklearn.model_selection import train_test_split,KFold,cross_val_score\n",
    "from sklearn.svm import SVC\n",
    "from sklearn.ensemble import RandomForestClassifier\n",
    "from sklearn.linear_model import LogisticRegression\n",
    "from sklearn import datasets\n",
    "import warnings\n",
    "warnings.filterwarnings(action='ignore')"
   ]
  },
  {
   "cell_type": "code",
   "execution_count": 2,
   "metadata": {
    "executionInfo": {
     "elapsed": 2141,
     "status": "ok",
     "timestamp": 1606581466137,
     "user": {
      "displayName": "Al Amin",
      "photoUrl": "https://lh3.googleusercontent.com/a-/AOh14GiMB6CqgQqINGrgkLYU8ftIloMfHO5LgiFZgCAUSg=s64",
      "userId": "17120997331533597303"
     },
     "user_tz": -360
    },
    "id": "nKpTOoKSKybc"
   },
   "outputs": [],
   "source": [
    "data = datasets.load_digits()"
   ]
  },
  {
   "cell_type": "code",
   "execution_count": 3,
   "metadata": {
    "executionInfo": {
     "elapsed": 2119,
     "status": "ok",
     "timestamp": 1606581466139,
     "user": {
      "displayName": "Al Amin",
      "photoUrl": "https://lh3.googleusercontent.com/a-/AOh14GiMB6CqgQqINGrgkLYU8ftIloMfHO5LgiFZgCAUSg=s64",
      "userId": "17120997331533597303"
     },
     "user_tz": -360
    },
    "id": "RbUWuZ_6K1wv"
   },
   "outputs": [],
   "source": [
    "x_train,x_test,y_train,y_test = train_test_split(data.data,data.target,test_size=.3,random_state=20)"
   ]
  },
  {
   "cell_type": "code",
   "execution_count": 4,
   "metadata": {
    "executionInfo": {
     "elapsed": 2096,
     "status": "ok",
     "timestamp": 1606581466140,
     "user": {
      "displayName": "Al Amin",
      "photoUrl": "https://lh3.googleusercontent.com/a-/AOh14GiMB6CqgQqINGrgkLYU8ftIloMfHO5LgiFZgCAUSg=s64",
      "userId": "17120997331533597303"
     },
     "user_tz": -360
    },
    "id": "xds6PlKyLKhJ"
   },
   "outputs": [],
   "source": [
    "lr = LogisticRegression(max_iter=200)"
   ]
  },
  {
   "cell_type": "code",
   "execution_count": 5,
   "metadata": {
    "colab": {
     "base_uri": "https://localhost:8080/"
    },
    "executionInfo": {
     "elapsed": 3030,
     "status": "ok",
     "timestamp": 1606581467102,
     "user": {
      "displayName": "Al Amin",
      "photoUrl": "https://lh3.googleusercontent.com/a-/AOh14GiMB6CqgQqINGrgkLYU8ftIloMfHO5LgiFZgCAUSg=s64",
      "userId": "17120997331533597303"
     },
     "user_tz": -360
    },
    "id": "7S__pKcoLX9j",
    "outputId": "da5a265b-5dae-4a39-d4f6-0f159abe640e"
   },
   "outputs": [
    {
     "data": {
      "text/plain": [
       "0.9574074074074074"
      ]
     },
     "execution_count": 5,
     "metadata": {
      "tags": []
     },
     "output_type": "execute_result"
    }
   ],
   "source": [
    "lr.fit(x_train,y_train)\n",
    "lr.score(x_test,y_test)"
   ]
  },
  {
   "cell_type": "code",
   "execution_count": 6,
   "metadata": {
    "executionInfo": {
     "elapsed": 3001,
     "status": "ok",
     "timestamp": 1606581467103,
     "user": {
      "displayName": "Al Amin",
      "photoUrl": "https://lh3.googleusercontent.com/a-/AOh14GiMB6CqgQqINGrgkLYU8ftIloMfHO5LgiFZgCAUSg=s64",
      "userId": "17120997331533597303"
     },
     "user_tz": -360
    },
    "id": "f_QpaK8CLeHc"
   },
   "outputs": [],
   "source": [
    "svc = SVC()"
   ]
  },
  {
   "cell_type": "code",
   "execution_count": 7,
   "metadata": {
    "colab": {
     "base_uri": "https://localhost:8080/"
    },
    "executionInfo": {
     "elapsed": 2974,
     "status": "ok",
     "timestamp": 1606581467103,
     "user": {
      "displayName": "Al Amin",
      "photoUrl": "https://lh3.googleusercontent.com/a-/AOh14GiMB6CqgQqINGrgkLYU8ftIloMfHO5LgiFZgCAUSg=s64",
      "userId": "17120997331533597303"
     },
     "user_tz": -360
    },
    "id": "008CGgnbMBal",
    "outputId": "b8b334a4-cf66-4e0b-e45a-2a99e82437c3"
   },
   "outputs": [
    {
     "data": {
      "text/plain": [
       "0.987037037037037"
      ]
     },
     "execution_count": 7,
     "metadata": {
      "tags": []
     },
     "output_type": "execute_result"
    }
   ],
   "source": [
    "svc.fit(x_train,y_train)\n",
    "svc.score(x_test,y_test)"
   ]
  },
  {
   "cell_type": "code",
   "execution_count": 8,
   "metadata": {
    "executionInfo": {
     "elapsed": 2947,
     "status": "ok",
     "timestamp": 1606581467104,
     "user": {
      "displayName": "Al Amin",
      "photoUrl": "https://lh3.googleusercontent.com/a-/AOh14GiMB6CqgQqINGrgkLYU8ftIloMfHO5LgiFZgCAUSg=s64",
      "userId": "17120997331533597303"
     },
     "user_tz": -360
    },
    "id": "AvPB3pnSMDFK"
   },
   "outputs": [],
   "source": [
    "rfc = RandomForestClassifier(n_estimators=100)"
   ]
  },
  {
   "cell_type": "code",
   "execution_count": 9,
   "metadata": {
    "colab": {
     "base_uri": "https://localhost:8080/"
    },
    "executionInfo": {
     "elapsed": 2910,
     "status": "ok",
     "timestamp": 1606581467105,
     "user": {
      "displayName": "Al Amin",
      "photoUrl": "https://lh3.googleusercontent.com/a-/AOh14GiMB6CqgQqINGrgkLYU8ftIloMfHO5LgiFZgCAUSg=s64",
      "userId": "17120997331533597303"
     },
     "user_tz": -360
    },
    "id": "NjYigm3kMenm",
    "outputId": "54b516c8-d791-4dc1-96d1-5455bf9e246a"
   },
   "outputs": [
    {
     "data": {
      "text/plain": [
       "0.9833333333333333"
      ]
     },
     "execution_count": 9,
     "metadata": {
      "tags": []
     },
     "output_type": "execute_result"
    }
   ],
   "source": [
    "rfc.fit(x_train,y_train)\n",
    "rfc.score(x_test,y_test)"
   ]
  },
  {
   "cell_type": "code",
   "execution_count": 10,
   "metadata": {
    "colab": {
     "base_uri": "https://localhost:8080/"
    },
    "executionInfo": {
     "elapsed": 2882,
     "status": "ok",
     "timestamp": 1606581467106,
     "user": {
      "displayName": "Al Amin",
      "photoUrl": "https://lh3.googleusercontent.com/a-/AOh14GiMB6CqgQqINGrgkLYU8ftIloMfHO5LgiFZgCAUSg=s64",
      "userId": "17120997331533597303"
     },
     "user_tz": -360
    },
    "id": "PX4dJtI8Mjsv",
    "outputId": "85cd4b4f-6858-47ce-ebbd-d7f67794d091"
   },
   "outputs": [
    {
     "data": {
      "text/plain": [
       "KFold(n_splits=3, random_state=None, shuffle=False)"
      ]
     },
     "execution_count": 10,
     "metadata": {
      "tags": []
     },
     "output_type": "execute_result"
    }
   ],
   "source": [
    "kf = KFold(n_splits=3)\n",
    "kf"
   ]
  },
  {
   "cell_type": "code",
   "execution_count": 11,
   "metadata": {
    "colab": {
     "base_uri": "https://localhost:8080/"
    },
    "executionInfo": {
     "elapsed": 2861,
     "status": "ok",
     "timestamp": 1606581467107,
     "user": {
      "displayName": "Al Amin",
      "photoUrl": "https://lh3.googleusercontent.com/a-/AOh14GiMB6CqgQqINGrgkLYU8ftIloMfHO5LgiFZgCAUSg=s64",
      "userId": "17120997331533597303"
     },
     "user_tz": -360
    },
    "id": "q0FEnrI7M_t5",
    "outputId": "f8ab4d25-ced9-4a2c-cfab-bfb157c8190f"
   },
   "outputs": [
    {
     "name": "stdout",
     "output_type": "stream",
     "text": [
      "[3 4 5 6 7 8] [0 1 2]\n",
      "[0 1 2 6 7 8] [3 4 5]\n",
      "[0 1 2 3 4 5] [6 7 8]\n"
     ]
    }
   ],
   "source": [
    "for train_index,test_index in kf.split([1,2,3,4,5,6,7,8,9]):\n",
    "  print(train_index,test_index)"
   ]
  },
  {
   "cell_type": "markdown",
   "metadata": {
    "id": "9duGRvhROJpB"
   },
   "source": [
    "# We create a **function**"
   ]
  },
  {
   "cell_type": "code",
   "execution_count": 12,
   "metadata": {
    "executionInfo": {
     "elapsed": 2849,
     "status": "ok",
     "timestamp": 1606581467107,
     "user": {
      "displayName": "Al Amin",
      "photoUrl": "https://lh3.googleusercontent.com/a-/AOh14GiMB6CqgQqINGrgkLYU8ftIloMfHO5LgiFZgCAUSg=s64",
      "userId": "17120997331533597303"
     },
     "user_tz": -360
    },
    "id": "2_1NaAjvNRO6"
   },
   "outputs": [],
   "source": [
    "def get_score(model,x_train,x_test,y_train,y_test):\n",
    "  model.fit(x_train,y_train)\n",
    "  return model.score(x_test,y_test)"
   ]
  },
  {
   "cell_type": "code",
   "execution_count": 13,
   "metadata": {
    "colab": {
     "base_uri": "https://localhost:8080/"
    },
    "executionInfo": {
     "elapsed": 3365,
     "status": "ok",
     "timestamp": 1606581467637,
     "user": {
      "displayName": "Al Amin",
      "photoUrl": "https://lh3.googleusercontent.com/a-/AOh14GiMB6CqgQqINGrgkLYU8ftIloMfHO5LgiFZgCAUSg=s64",
      "userId": "17120997331533597303"
     },
     "user_tz": -360
    },
    "id": "vkMV6gnrN5hw",
    "outputId": "661ea9ec-994e-47b6-fd9d-db8a3e4d1677"
   },
   "outputs": [
    {
     "data": {
      "text/plain": [
       "0.975925925925926"
      ]
     },
     "execution_count": 13,
     "metadata": {
      "tags": []
     },
     "output_type": "execute_result"
    }
   ],
   "source": [
    "get_score(RandomForestClassifier(n_estimators=100),x_train,x_test,y_train,y_test)"
   ]
  },
  {
   "cell_type": "code",
   "execution_count": 14,
   "metadata": {
    "executionInfo": {
     "elapsed": 3355,
     "status": "ok",
     "timestamp": 1606581467639,
     "user": {
      "displayName": "Al Amin",
      "photoUrl": "https://lh3.googleusercontent.com/a-/AOh14GiMB6CqgQqINGrgkLYU8ftIloMfHO5LgiFZgCAUSg=s64",
      "userId": "17120997331533597303"
     },
     "user_tz": -360
    },
    "id": "Ncd_rPjzOH9L"
   },
   "outputs": [],
   "source": [
    "from sklearn.model_selection import StratifiedKFold"
   ]
  },
  {
   "cell_type": "code",
   "execution_count": 15,
   "metadata": {
    "executionInfo": {
     "elapsed": 3347,
     "status": "ok",
     "timestamp": 1606581467640,
     "user": {
      "displayName": "Al Amin",
      "photoUrl": "https://lh3.googleusercontent.com/a-/AOh14GiMB6CqgQqINGrgkLYU8ftIloMfHO5LgiFZgCAUSg=s64",
      "userId": "17120997331533597303"
     },
     "user_tz": -360
    },
    "id": "s4E8mtQ9Omg5"
   },
   "outputs": [],
   "source": [
    "folds = StratifiedKFold(n_splits=3)"
   ]
  },
  {
   "cell_type": "code",
   "execution_count": 16,
   "metadata": {
    "executionInfo": {
     "elapsed": 5792,
     "status": "ok",
     "timestamp": 1606581470096,
     "user": {
      "displayName": "Al Amin",
      "photoUrl": "https://lh3.googleusercontent.com/a-/AOh14GiMB6CqgQqINGrgkLYU8ftIloMfHO5LgiFZgCAUSg=s64",
      "userId": "17120997331533597303"
     },
     "user_tz": -360
    },
    "id": "9schytBSOtAP"
   },
   "outputs": [],
   "source": [
    "score_lr = []\n",
    "score_svc = []\n",
    "score_rfc = []\n",
    "for train_index,test_index in folds.split(data.data,data.target):\n",
    "  x_train,x_test,y_train,y_test = data.data[train_index],data.data[test_index],data.target[train_index],data.target[test_index]\n",
    "  score_lr.append(get_score(LogisticRegression(max_iter=200),x_train,x_test,y_train,y_test))\n",
    "  score_svc.append(get_score(SVC(),x_train,x_test,y_train,y_test))\n",
    "  score_rfc.append(get_score(RandomForestClassifier(),x_train,x_test,y_train,y_test))"
   ]
  },
  {
   "cell_type": "code",
   "execution_count": 17,
   "metadata": {
    "colab": {
     "base_uri": "https://localhost:8080/"
    },
    "executionInfo": {
     "elapsed": 5787,
     "status": "ok",
     "timestamp": 1606581470101,
     "user": {
      "displayName": "Al Amin",
      "photoUrl": "https://lh3.googleusercontent.com/a-/AOh14GiMB6CqgQqINGrgkLYU8ftIloMfHO5LgiFZgCAUSg=s64",
      "userId": "17120997331533597303"
     },
     "user_tz": -360
    },
    "id": "uM2JoQnLQaSP",
    "outputId": "f181bb90-99bb-496b-ce89-7dab19046fd2"
   },
   "outputs": [
    {
     "data": {
      "text/plain": [
       "[0.9215358931552587, 0.9432387312186978, 0.9181969949916527]"
      ]
     },
     "execution_count": 17,
     "metadata": {
      "tags": []
     },
     "output_type": "execute_result"
    }
   ],
   "source": [
    "score_lr "
   ]
  },
  {
   "cell_type": "code",
   "execution_count": 18,
   "metadata": {
    "colab": {
     "base_uri": "https://localhost:8080/"
    },
    "executionInfo": {
     "elapsed": 5776,
     "status": "ok",
     "timestamp": 1606581470102,
     "user": {
      "displayName": "Al Amin",
      "photoUrl": "https://lh3.googleusercontent.com/a-/AOh14GiMB6CqgQqINGrgkLYU8ftIloMfHO5LgiFZgCAUSg=s64",
      "userId": "17120997331533597303"
     },
     "user_tz": -360
    },
    "id": "clLm-dNfQtGP",
    "outputId": "ab2c1edb-4f6f-40d6-f0e2-c08b9242dc4e"
   },
   "outputs": [
    {
     "data": {
      "text/plain": [
       "[0.9649415692821369, 0.9799666110183639, 0.9649415692821369]"
      ]
     },
     "execution_count": 18,
     "metadata": {
      "tags": []
     },
     "output_type": "execute_result"
    }
   ],
   "source": [
    "score_svc"
   ]
  },
  {
   "cell_type": "code",
   "execution_count": 19,
   "metadata": {
    "colab": {
     "base_uri": "https://localhost:8080/"
    },
    "executionInfo": {
     "elapsed": 5765,
     "status": "ok",
     "timestamp": 1606581470103,
     "user": {
      "displayName": "Al Amin",
      "photoUrl": "https://lh3.googleusercontent.com/a-/AOh14GiMB6CqgQqINGrgkLYU8ftIloMfHO5LgiFZgCAUSg=s64",
      "userId": "17120997331533597303"
     },
     "user_tz": -360
    },
    "id": "H4NMSGmiQx4U",
    "outputId": "4610f1cb-a418-4e8e-c7c0-56bbea040e02"
   },
   "outputs": [
    {
     "data": {
      "text/plain": [
       "[0.9382303839732888, 0.9532554257095158, 0.9298831385642737]"
      ]
     },
     "execution_count": 19,
     "metadata": {
      "tags": []
     },
     "output_type": "execute_result"
    }
   ],
   "source": [
    "score_rfc"
   ]
  },
  {
   "cell_type": "code",
   "execution_count": 20,
   "metadata": {
    "colab": {
     "base_uri": "https://localhost:8080/"
    },
    "executionInfo": {
     "elapsed": 8088,
     "status": "ok",
     "timestamp": 1606581472438,
     "user": {
      "displayName": "Al Amin",
      "photoUrl": "https://lh3.googleusercontent.com/a-/AOh14GiMB6CqgQqINGrgkLYU8ftIloMfHO5LgiFZgCAUSg=s64",
      "userId": "17120997331533597303"
     },
     "user_tz": -360
    },
    "id": "TxkoMeQuQ0gq",
    "outputId": "f47afa62-2ee0-466d-a851-f9c3ebe3dec2"
   },
   "outputs": [
    {
     "data": {
      "text/plain": [
       "array([0.92222222, 0.86944444, 0.94150418, 0.93871866, 0.89693593])"
      ]
     },
     "execution_count": 20,
     "metadata": {
      "tags": []
     },
     "output_type": "execute_result"
    }
   ],
   "source": [
    "cross_val_score(LogisticRegression(),data.data,data.target)"
   ]
  },
  {
   "cell_type": "code",
   "execution_count": 21,
   "metadata": {
    "colab": {
     "base_uri": "https://localhost:8080/"
    },
    "executionInfo": {
     "elapsed": 8077,
     "status": "ok",
     "timestamp": 1606581472439,
     "user": {
      "displayName": "Al Amin",
      "photoUrl": "https://lh3.googleusercontent.com/a-/AOh14GiMB6CqgQqINGrgkLYU8ftIloMfHO5LgiFZgCAUSg=s64",
      "userId": "17120997331533597303"
     },
     "user_tz": -360
    },
    "id": "BHsEJ9NsRd_t",
    "outputId": "80cd692b-b573-460f-c317-95be9450c776"
   },
   "outputs": [
    {
     "data": {
      "text/plain": [
       "array([0.96111111, 0.94444444, 0.98328691, 0.98885794, 0.93871866])"
      ]
     },
     "execution_count": 21,
     "metadata": {
      "tags": []
     },
     "output_type": "execute_result"
    }
   ],
   "source": [
    "cross_val_score(SVC(),data.data,data.target)"
   ]
  },
  {
   "cell_type": "code",
   "execution_count": 22,
   "metadata": {
    "colab": {
     "base_uri": "https://localhost:8080/"
    },
    "executionInfo": {
     "elapsed": 10141,
     "status": "ok",
     "timestamp": 1606581474519,
     "user": {
      "displayName": "Al Amin",
      "photoUrl": "https://lh3.googleusercontent.com/a-/AOh14GiMB6CqgQqINGrgkLYU8ftIloMfHO5LgiFZgCAUSg=s64",
      "userId": "17120997331533597303"
     },
     "user_tz": -360
    },
    "id": "dabyOMIVRjNk",
    "outputId": "20aaea3b-abe6-4929-d439-bd5db1b7c582"
   },
   "outputs": [
    {
     "data": {
      "text/plain": [
       "array([0.93888889, 0.9       , 0.9637883 , 0.95821727, 0.92200557])"
      ]
     },
     "execution_count": 22,
     "metadata": {
      "tags": []
     },
     "output_type": "execute_result"
    }
   ],
   "source": [
    "cross_val_score(RandomForestClassifier(),data.data,data.target)"
   ]
  },
  {
   "cell_type": "markdown",
   "metadata": {
    "id": "TdG97yGCxy1f"
   },
   "source": [
    "# **Parameter tunning using k fold cross validation**"
   ]
  },
  {
   "cell_type": "markdown",
   "metadata": {
    "id": "FCExWJEXx2KY"
   },
   "source": [
    "### **k-fold cross validation work same way StratifiedKFold bydefault**"
   ]
  },
  {
   "cell_type": "code",
   "execution_count": 27,
   "metadata": {
    "colab": {
     "base_uri": "https://localhost:8080/"
    },
    "executionInfo": {
     "elapsed": 16092,
     "status": "ok",
     "timestamp": 1606584144009,
     "user": {
      "displayName": "Al Amin",
      "photoUrl": "https://lh3.googleusercontent.com/a-/AOh14GiMB6CqgQqINGrgkLYU8ftIloMfHO5LgiFZgCAUSg=s64",
      "userId": "17120997331533597303"
     },
     "user_tz": -360
    },
    "id": "2wDyWZrnRmly",
    "outputId": "e2bd278a-d0af-471c-d8d1-5c59a4dd1b75"
   },
   "outputs": [
    {
     "name": "stdout",
     "output_type": "stream",
     "text": [
      "{10: 0.9198448168839232, 50: 0.9504593420235878, 80: 0.9443544382371197, 100: 0.9449099937926754, 150: 0.9499193047796399}\n",
      "Max value is:  0.9504593420235878\n"
     ]
    }
   ],
   "source": [
    "# we tunie for one model random forest classifier\n",
    "all_score = dict()\n",
    "n_estimators = [10,50,80,100,150]\n",
    "for n_estimator in n_estimators:\n",
    "  score_ = cross_val_score(estimator=RandomForestClassifier(n_estimators=n_estimator),X=data.data,y=data.target,cv=10)\n",
    "  avg_score = np.average(score_)\n",
    "  all_score.update({n_estimator:avg_score})\n",
    "print(all_score)\n",
    "print(\"Max value is: \",max(all_score.values()))"
   ]
  },
  {
   "cell_type": "markdown",
   "metadata": {
    "id": "6mBWG6wX4WLS"
   },
   "source": [
    "**Here we used cross_val_score to fine tune our random forest classifier and figured that having around 50 trees in random forest gives best result.**"
   ]
  },
  {
   "cell_type": "code",
   "execution_count": null,
   "metadata": {
    "id": "2YSDDqMQ17hv"
   },
   "outputs": [],
   "source": []
  }
 ],
 "metadata": {
  "colab": {
   "authorship_tag": "ABX9TyPcsUCNCPwZPLpFLM3XYbi6",
   "collapsed_sections": [],
   "name": "ML_K-Fold_Cross_Validition.ipynb",
   "provenance": []
  },
  "kernelspec": {
   "display_name": "Python 3",
   "language": "python",
   "name": "python3"
  },
  "language_info": {
   "codemirror_mode": {
    "name": "ipython",
    "version": 3
   },
   "file_extension": ".py",
   "mimetype": "text/x-python",
   "name": "python",
   "nbconvert_exporter": "python",
   "pygments_lexer": "ipython3",
   "version": "3.9.5"
  }
 },
 "nbformat": 4,
 "nbformat_minor": 1
}
