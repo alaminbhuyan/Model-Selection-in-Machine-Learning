{
 "cells": [
  {
   "cell_type": "markdown",
   "id": "50e8d7ba",
   "metadata": {},
   "source": [
    "### What is random sampling and Stratified sampling ? \n",
    "Suppose you want to take a survey and decided to call 1000 people from a particular state, If you pick either 1000 male completely or 1000 female completely or 900 female and 100 male (randomly) to ask their opinion on a particular product.Then based on these 1000 opinion you can’t decide the opinion of that entire state on your product.This is random sampling.\n",
    "But in Stratified Sampling, Let the population for that state be 51.3% male and 48.7% female, Then for choosing 1000 people from that state if you pick 531 male ( 51.3% of 1000 ) and 487 female ( 48.7% for 1000 ) i.e 531 male + 487 female (Total=1000 people) to ask their opinion. Then these groups of people represent the entire state. This is called as Stratified Sampling."
   ]
  },
  {
   "cell_type": "code",
   "execution_count": 1,
   "id": "ce95c685",
   "metadata": {},
   "outputs": [],
   "source": [
    "import numpy as np\n",
    "from sklearn.preprocessing import MinMaxScaler\n",
    "from sklearn.model_selection import StratifiedKFold\n",
    "from sklearn.linear_model import LogisticRegression\n",
    "from sklearn import datasets\n",
    "from statistics import mean, stdev"
   ]
  },
  {
   "cell_type": "code",
   "execution_count": 2,
   "id": "82a00fdf",
   "metadata": {},
   "outputs": [],
   "source": [
    "df = datasets.load_breast_cancer()"
   ]
  },
  {
   "cell_type": "code",
   "execution_count": 3,
   "id": "1d5c5901",
   "metadata": {},
   "outputs": [],
   "source": [
    "# Input x features\n",
    "X = df.data\n",
    "\n",
    "# Input y target variable\n",
    "y = df.target"
   ]
  },
  {
   "cell_type": "code",
   "execution_count": 4,
   "id": "83783acd",
   "metadata": {},
   "outputs": [],
   "source": [
    "# Feature Scaling for input features.\n",
    "\n",
    "scale = MinMaxScaler()"
   ]
  },
  {
   "cell_type": "code",
   "execution_count": 5,
   "id": "a5f1f827",
   "metadata": {},
   "outputs": [],
   "source": [
    "x_scaled = scale.fit_transform(X=X)"
   ]
  },
  {
   "cell_type": "code",
   "execution_count": 6,
   "id": "2682d2c2",
   "metadata": {},
   "outputs": [],
   "source": [
    "# Create  classifier object.\n",
    "model = LogisticRegression()"
   ]
  },
  {
   "cell_type": "code",
   "execution_count": 7,
   "id": "075e572f",
   "metadata": {},
   "outputs": [],
   "source": [
    "# Create StratifiedKFold object.\n",
    "skf = StratifiedKFold(n_splits=10, shuffle=True, random_state=1)"
   ]
  },
  {
   "cell_type": "code",
   "execution_count": 8,
   "id": "d942c09d",
   "metadata": {},
   "outputs": [],
   "source": [
    "lst_accu_stratified = []\n",
    "\n",
    "for train_index, test_index in skf.split(X=X, y=y):\n",
    "    x_train_fold, x_test_fold, y_train_fold, y_test_fold = x_scaled[train_index], x_scaled[test_index], y[train_index], y[test_index]\n",
    "    model.fit(x_train_fold, y_train_fold)\n",
    "    lst_accu_stratified.append(model.score(x_test_fold, y_test_fold))"
   ]
  },
  {
   "cell_type": "code",
   "execution_count": 9,
   "id": "e83845e4",
   "metadata": {},
   "outputs": [
    {
     "name": "stdout",
     "output_type": "stream",
     "text": [
      "List of possible accuracy:\n",
      " [0.9298245614035088, 0.9649122807017544, 0.9824561403508771, 1.0, 0.9649122807017544, 0.9649122807017544, 0.9824561403508771, 0.9473684210526315, 0.9473684210526315, 0.9821428571428571]\n",
      "\n",
      "Maximum Accuracy That can be obtained from this model is: 100.0 %\n",
      "\n",
      "Minimum Accuracy: 92.98245614035088 %\n",
      "\n",
      "Overall Accuracy: 96.66353383458647 %\n",
      "\n",
      "Standard Deviation is: 0.02097789213195869\n"
     ]
    }
   ],
   "source": [
    "# Print the output.\n",
    "\n",
    "print('List of possible accuracy:\\n',lst_accu_stratified)\n",
    "\n",
    "print('\\nMaximum Accuracy That can be obtained from this model is:',max(lst_accu_stratified)*100, '%')\n",
    "\n",
    "print('\\nMinimum Accuracy:', min(lst_accu_stratified)*100, '%')\n",
    "\n",
    "print('\\nOverall Accuracy:',mean(lst_accu_stratified)*100, '%')\n",
    "\n",
    "print('\\nStandard Deviation is:', stdev(lst_accu_stratified))"
   ]
  },
  {
   "cell_type": "code",
   "execution_count": null,
   "id": "ebb8d586",
   "metadata": {},
   "outputs": [],
   "source": []
  }
 ],
 "metadata": {
  "kernelspec": {
   "display_name": "Python 3",
   "language": "python",
   "name": "python3"
  },
  "language_info": {
   "codemirror_mode": {
    "name": "ipython",
    "version": 3
   },
   "file_extension": ".py",
   "mimetype": "text/x-python",
   "name": "python",
   "nbconvert_exporter": "python",
   "pygments_lexer": "ipython3",
   "version": "3.9.5"
  }
 },
 "nbformat": 4,
 "nbformat_minor": 5
}
